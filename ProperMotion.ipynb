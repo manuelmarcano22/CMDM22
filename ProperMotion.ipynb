{
 "cells": [
  {
   "cell_type": "markdown",
   "metadata": {},
   "source": [
    "# http://docs.astropy.org/en/stable/coordinates/apply_space_motion.html\n",
    "http://simbad.u-strasbg.fr/simbad/sim-id?Ident=%402521892&Name=Cl*%20NGC%206656%20%20%20%20SAW%20V35&submit=submit"
   ]
  },
  {
   "cell_type": "code",
   "execution_count": 38,
   "metadata": {},
   "outputs": [],
   "source": [
    "from astropy.coordinates import SkyCoord, Distance\n",
    "import astropy.units as u\n",
    "from astropy.time import Time\n"
   ]
  },
  {
   "cell_type": "code",
   "execution_count": 39,
   "metadata": {},
   "outputs": [
    {
     "data": {
      "text/plain": [
       "'18h36m24.0536s -23d54m29.6158s'"
      ]
     },
     "execution_count": 39,
     "metadata": {},
     "output_type": "execute_result"
    }
   ],
   "source": [
    "c = SkyCoord(ra=279.1002500 * u.deg,\n",
    "             dec=--23.9088889 * u.deg,\n",
    "             distance=Distance(parallax=.3031 * u.mas),\n",
    "             pm_ra_cosdec=11.176 * u.mas/u.yr,\n",
    "             pm_dec=-5.302 * u.mas/u.yr,\n",
    "             obstime=Time(2000., format='decimalyear'))\n",
    "c.to_string('hmsdms')"
   ]
  },
  {
   "cell_type": "code",
   "execution_count": 43,
   "metadata": {},
   "outputs": [
    {
     "name": "stdout",
     "output_type": "stream",
     "text": [
      "18h36m24.0544s -23d54m29.6211s\n"
     ]
    }
   ],
   "source": [
    "newcoord = c.apply_space_motion(dt=1. * u.year) \n",
    "print(newcoord.to_string('hmsdms'))"
   ]
  },
  {
   "cell_type": "code",
   "execution_count": 44,
   "metadata": {},
   "outputs": [
    {
     "data": {
      "text/plain": [
       "0.012369889934052592"
      ]
     },
     "execution_count": 44,
     "metadata": {},
     "output_type": "execute_result"
    }
   ],
   "source": [
    "sepa = newcoord.separation(c)\n",
    "sepa.arcsecond"
   ]
  },
  {
   "cell_type": "markdown",
   "metadata": {},
   "source": [
    "nn = c.apply_space_motion(new_obstime=Time('2000-12-18 01:12:07.3')) \n",
    "nn.to_string('hmsdms')"
   ]
  },
  {
   "cell_type": "code",
   "execution_count": 42,
   "metadata": {},
   "outputs": [
    {
     "data": {
      "text/plain": [
       "<SkyCoord (ICRS): (ra, dec, distance) in (deg, deg, pc)\n",
       "    (279.10022337, -23.90822662, 3299.24117453)\n",
       " (pm_ra, pm_dec, radial_velocity) in (mas / yr, mas / yr, km / s)\n",
       "    (12.22495258, -5.302, 0.)>"
      ]
     },
     "execution_count": 42,
     "metadata": {},
     "output_type": "execute_result"
    }
   ],
   "source": [
    "c.representation_type = 'spherical'\n",
    "c"
   ]
  },
  {
   "cell_type": "code",
   "execution_count": null,
   "metadata": {},
   "outputs": [],
   "source": []
  }
 ],
 "metadata": {
  "kernelspec": {
   "display_name": "Python 3",
   "language": "python",
   "name": "python3"
  },
  "language_info": {
   "codemirror_mode": {
    "name": "ipython",
    "version": 3
   },
   "file_extension": ".py",
   "mimetype": "text/x-python",
   "name": "python",
   "nbconvert_exporter": "python",
   "pygments_lexer": "ipython3",
   "version": "3.7.2"
  }
 },
 "nbformat": 4,
 "nbformat_minor": 2
}
